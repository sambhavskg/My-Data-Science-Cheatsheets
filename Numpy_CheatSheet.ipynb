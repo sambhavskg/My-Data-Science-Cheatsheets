{
 "cells": [
  {
   "cell_type": "markdown",
   "id": "labeled-preference",
   "metadata": {},
   "source": [
    "# Create a NumPy ndarray"
   ]
  },
  {
   "cell_type": "markdown",
   "id": "loving-telling",
   "metadata": {},
   "source": [
    "To create an ndarray, we can pass a list, tuple or any array-like object into the array() method, and it will be converted into an ndarray"
   ]
  },
  {
   "cell_type": "code",
   "execution_count": 11,
   "id": "conventional-candle",
   "metadata": {},
   "outputs": [
    {
     "data": {
      "text/plain": [
       "array([1, 2, 3, 4, 5, 6])"
      ]
     },
     "execution_count": 11,
     "metadata": {},
     "output_type": "execute_result"
    }
   ],
   "source": [
    "import numpy as np\n",
    "\n",
    "arr_1d =np.array([1,2,3,4,5,6])\n",
    "arr_1d\n"
   ]
  },
  {
   "cell_type": "code",
   "execution_count": 13,
   "id": "other-coalition",
   "metadata": {},
   "outputs": [
    {
     "name": "stdout",
     "output_type": "stream",
     "text": [
      "[[1 2 3]\n",
      " [4 5 6]]\n"
     ]
    }
   ],
   "source": [
    "arr_2d =np.array([[1, 2, 3], [4, 5, 6]])\n",
    "print(arr_2d)"
   ]
  },
  {
   "cell_type": "code",
   "execution_count": 15,
   "id": "contained-hepatitis",
   "metadata": {},
   "outputs": [
    {
     "name": "stdout",
     "output_type": "stream",
     "text": [
      "10\n"
     ]
    }
   ],
   "source": [
    "arr_0d = np.array(10)\n",
    "print(arr_0d)"
   ]
  },
  {
   "cell_type": "code",
   "execution_count": 14,
   "id": "convenient-messaging",
   "metadata": {},
   "outputs": [
    {
     "name": "stdout",
     "output_type": "stream",
     "text": [
      "[[[ 1  2  3]\n",
      "  [ 4  5  6]]\n",
      "\n",
      " [[ 8  9 10]\n",
      "  [11 12 13]]]\n"
     ]
    }
   ],
   "source": [
    "arr_3d = np.array([[[1,2,3],[4,5,6]],[[8,9,10],[11,12,13]]])\n",
    "print(arr_3d)"
   ]
  },
  {
   "cell_type": "markdown",
   "id": "appropriate-brooklyn",
   "metadata": {},
   "source": [
    "# Check Number of Dimensions\n"
   ]
  },
  {
   "cell_type": "code",
   "execution_count": 16,
   "id": "mysterious-conference",
   "metadata": {},
   "outputs": [
    {
     "data": {
      "text/plain": [
       "1"
      ]
     },
     "execution_count": 16,
     "metadata": {},
     "output_type": "execute_result"
    }
   ],
   "source": [
    "arr_1d.ndim"
   ]
  },
  {
   "cell_type": "code",
   "execution_count": 17,
   "id": "unnecessary-bryan",
   "metadata": {},
   "outputs": [
    {
     "data": {
      "text/plain": [
       "2"
      ]
     },
     "execution_count": 17,
     "metadata": {},
     "output_type": "execute_result"
    }
   ],
   "source": [
    "arr_2d.ndim"
   ]
  },
  {
   "cell_type": "code",
   "execution_count": 18,
   "id": "alert-premium",
   "metadata": {},
   "outputs": [
    {
     "data": {
      "text/plain": [
       "3"
      ]
     },
     "execution_count": 18,
     "metadata": {},
     "output_type": "execute_result"
    }
   ],
   "source": [
    "arr_3d.ndim"
   ]
  },
  {
   "cell_type": "markdown",
   "id": "basic-sherman",
   "metadata": {},
   "source": [
    "# NumPy Array Indexing"
   ]
  },
  {
   "cell_type": "code",
   "execution_count": 20,
   "id": "boolean-technology",
   "metadata": {},
   "outputs": [
    {
     "data": {
      "text/plain": [
       "3"
      ]
     },
     "execution_count": 20,
     "metadata": {},
     "output_type": "execute_result"
    }
   ],
   "source": [
    "arr_1d[2]"
   ]
  },
  {
   "cell_type": "code",
   "execution_count": 24,
   "id": "psychological-family",
   "metadata": {},
   "outputs": [
    {
     "data": {
      "text/plain": [
       "array([4, 5, 6])"
      ]
     },
     "execution_count": 24,
     "metadata": {},
     "output_type": "execute_result"
    }
   ],
   "source": [
    "arr_2d =np.array([[1, 2, 3], [4, 5, 6]])\n",
    "arr_2d[1]"
   ]
  },
  {
   "cell_type": "markdown",
   "id": "agricultural-junior",
   "metadata": {},
   "source": [
    "# NumPy Array Slicing"
   ]
  },
  {
   "cell_type": "markdown",
   "id": "canadian-terror",
   "metadata": {},
   "source": [
    "## define the step, like this: [start:end:step]"
   ]
  },
  {
   "cell_type": "code",
   "execution_count": 25,
   "id": "challenging-cameroon",
   "metadata": {},
   "outputs": [
    {
     "data": {
      "text/plain": [
       "array([1, 2, 3, 4])"
      ]
     },
     "execution_count": 25,
     "metadata": {},
     "output_type": "execute_result"
    }
   ],
   "source": [
    "arr_1d = np.array([1, 2, 3, 4, 5, 6, 7])\n",
    "arr_1d[0:4]"
   ]
  },
  {
   "cell_type": "code",
   "execution_count": 26,
   "id": "offensive-westminster",
   "metadata": {},
   "outputs": [
    {
     "data": {
      "text/plain": [
       "array([2, 4])"
      ]
     },
     "execution_count": 26,
     "metadata": {},
     "output_type": "execute_result"
    }
   ],
   "source": [
    "arr_1d[1:5:2]"
   ]
  },
  {
   "cell_type": "markdown",
   "id": "falling-houston",
   "metadata": {},
   "source": [
    "### Slicing 2-D Arrays"
   ]
  },
  {
   "cell_type": "code",
   "execution_count": 27,
   "id": "tamil-associate",
   "metadata": {},
   "outputs": [
    {
     "data": {
      "text/plain": [
       "array([2, 3, 4])"
      ]
     },
     "execution_count": 27,
     "metadata": {},
     "output_type": "execute_result"
    }
   ],
   "source": [
    "arr_2d = np.array([[1, 2, 3, 4, 5], [6, 7, 8, 9, 10]])\n",
    "arr_2d[0,1:4]"
   ]
  },
  {
   "cell_type": "code",
   "execution_count": 28,
   "id": "iraqi-coffee",
   "metadata": {},
   "outputs": [
    {
     "data": {
      "text/plain": [
       "array([7, 8, 9])"
      ]
     },
     "execution_count": 28,
     "metadata": {},
     "output_type": "execute_result"
    }
   ],
   "source": [
    "arr_2d[1,1:4]"
   ]
  },
  {
   "cell_type": "markdown",
   "id": "electric-partner",
   "metadata": {},
   "source": [
    "### Data Types in Python\n",
    "By default Python have these data types:\n",
    "\n",
    "strings - used to represent text data, the text is given under quote marks. e.g. \"ABCD\"\n",
    "integer - used to represent integer numbers. e.g. -1, -2, -3\n",
    "float - used to represent real numbers. e.g. 1.2, 42.42\n",
    "boolean - used to represent True or False.\n",
    "complex - used to represent complex numbers. e.g. 1.0 + 2.0j, 1.5 + 2.5j"
   ]
  },
  {
   "cell_type": "markdown",
   "id": "classified-speech",
   "metadata": {},
   "source": [
    "### Data Types in NumPy\n",
    "NumPy has some extra data types, and refer to data types with one character, like i for integers, u for unsigned integers etc.\n",
    "\n",
    "Below is a list of all data types in NumPy and the characters used to represent them.\n",
    "\n",
    "i - integer\n",
    "b - boolean\n",
    "u - unsigned integer\n",
    "f - float\n",
    "c - complex float\n",
    "m - timedelta\n",
    "M - datetime\n",
    "O - object\n",
    "S - string\n",
    "U - unicode string\n",
    "V - fixed chunk of memory for other type ( void )"
   ]
  },
  {
   "cell_type": "code",
   "execution_count": 30,
   "id": "closing-labor",
   "metadata": {},
   "outputs": [
    {
     "data": {
      "text/plain": [
       "10"
      ]
     },
     "execution_count": 30,
     "metadata": {},
     "output_type": "execute_result"
    }
   ],
   "source": [
    "arr_2d = np.array([[1, 2, 3, 4, 5], [6, 7, 8, 9, 10]])\n",
    "arr_2d.size"
   ]
  },
  {
   "cell_type": "code",
   "execution_count": 31,
   "id": "married-relation",
   "metadata": {},
   "outputs": [
    {
     "data": {
      "text/plain": [
       "(2, 5)"
      ]
     },
     "execution_count": 31,
     "metadata": {},
     "output_type": "execute_result"
    }
   ],
   "source": [
    "arr_2d.shape"
   ]
  },
  {
   "cell_type": "code",
   "execution_count": 32,
   "id": "possible-soccer",
   "metadata": {},
   "outputs": [
    {
     "data": {
      "text/plain": [
       "dtype('int32')"
      ]
     },
     "execution_count": 32,
     "metadata": {},
     "output_type": "execute_result"
    }
   ],
   "source": [
    "arr_2d.dtype"
   ]
  },
  {
   "cell_type": "markdown",
   "id": "timely-berkeley",
   "metadata": {},
   "source": [
    "### Creating  matrix "
   ]
  },
  {
   "cell_type": "markdown",
   "id": "british-haiti",
   "metadata": {},
   "source": [
    "### 1) np.ones() Python NumPy Function\n",
    "### 2) np.zeros() Python NumPy Function\n",
    "### 3) np.empty() Python NumPy Function"
   ]
  },
  {
   "cell_type": "code",
   "execution_count": 36,
   "id": "blessed-regular",
   "metadata": {},
   "outputs": [
    {
     "data": {
      "text/plain": [
       "array([[1, 1, 1, 1, 1],\n",
       "       [1, 1, 1, 1, 1],\n",
       "       [1, 1, 1, 1, 1]])"
      ]
     },
     "execution_count": 36,
     "metadata": {},
     "output_type": "execute_result"
    }
   ],
   "source": [
    "arry_1 = np.ones((3,5),dtype=int)\n",
    "arry_1"
   ]
  },
  {
   "cell_type": "code",
   "execution_count": 41,
   "id": "tested-individual",
   "metadata": {},
   "outputs": [
    {
     "data": {
      "text/plain": [
       "array([[ True,  True,  True,  True,  True],\n",
       "       [ True,  True,  True,  True,  True],\n",
       "       [ True,  True,  True,  True,  True]])"
      ]
     },
     "execution_count": 41,
     "metadata": {},
     "output_type": "execute_result"
    }
   ],
   "source": [
    "arry_1 = np.ones((3,5),dtype=bool)\n",
    "arry_1"
   ]
  },
  {
   "cell_type": "code",
   "execution_count": 38,
   "id": "handy-agriculture",
   "metadata": {},
   "outputs": [
    {
     "data": {
      "text/plain": [
       "array([[False, False, False, False, False],\n",
       "       [False, False, False, False, False],\n",
       "       [False, False, False, False, False]])"
      ]
     },
     "execution_count": 38,
     "metadata": {},
     "output_type": "execute_result"
    }
   ],
   "source": [
    "arry_2 = np.zeros((3,5),dtype=bool)\n",
    "arry_2"
   ]
  },
  {
   "cell_type": "code",
   "execution_count": 45,
   "id": "alert-shuttle",
   "metadata": {},
   "outputs": [
    {
     "data": {
      "text/plain": [
       "array([[0., 0., 0., 0., 0.],\n",
       "       [0., 0., 0., 0., 0.],\n",
       "       [0., 0., 0., 0., 0.]])"
      ]
     },
     "execution_count": 45,
     "metadata": {},
     "output_type": "execute_result"
    }
   ],
   "source": [
    "arry_2 = np.zeros((3,5),dtype= float)\n",
    "arry_2"
   ]
  },
  {
   "cell_type": "markdown",
   "id": "urban-seeking",
   "metadata": {},
   "source": [
    "# Numpy functions"
   ]
  },
  {
   "cell_type": "markdown",
   "id": "unlike-daisy",
   "metadata": {},
   "source": [
    "#### 1) np.arange() Python NumPy Function\n",
    "#### 2) np.linspace() Python NumPy Function\n",
    "#### 3) np.reshape() Python NumPy Function\n",
    "#### 4) np.ravel() Python NumPy Function\n",
    "#### 5) np.flatten() Python NumPy Function\n",
    "#### 6) np.transpose() Python NumPy Function\n"
   ]
  },
  {
   "cell_type": "code",
   "execution_count": 50,
   "id": "future-imperial",
   "metadata": {},
   "outputs": [
    {
     "data": {
      "text/plain": [
       "array([1., 3., 5., 7., 9.])"
      ]
     },
     "execution_count": 50,
     "metadata": {},
     "output_type": "execute_result"
    }
   ],
   "source": [
    "np.arange(1,10,2,dtype=float) "
   ]
  },
  {
   "cell_type": "code",
   "execution_count": 57,
   "id": "popular-milwaukee",
   "metadata": {},
   "outputs": [
    {
     "data": {
      "text/plain": [
       "array([1, 1, 2, 2, 3, 3, 4, 5])"
      ]
     },
     "execution_count": 57,
     "metadata": {},
     "output_type": "execute_result"
    }
   ],
   "source": [
    "np.linspace(1,5,8,dtype=int)"
   ]
  },
  {
   "cell_type": "code",
   "execution_count": 70,
   "id": "attractive-front",
   "metadata": {},
   "outputs": [],
   "source": [
    "arr =np.array([1,2,3,4,5,6,7,8])"
   ]
  },
  {
   "cell_type": "code",
   "execution_count": 73,
   "id": "everyday-tuesday",
   "metadata": {},
   "outputs": [
    {
     "data": {
      "text/plain": [
       "array([[1, 2, 3, 4],\n",
       "       [5, 6, 7, 8]])"
      ]
     },
     "execution_count": 73,
     "metadata": {},
     "output_type": "execute_result"
    }
   ],
   "source": [
    "arr_2d = arr.reshape(2,4)\n",
    "arr_2d"
   ]
  },
  {
   "cell_type": "code",
   "execution_count": 77,
   "id": "wrapped-budget",
   "metadata": {},
   "outputs": [
    {
     "data": {
      "text/plain": [
       "array([[1, 2, 3, 4],\n",
       "       [5, 6, 7, 8]])"
      ]
     },
     "execution_count": 77,
     "metadata": {},
     "output_type": "execute_result"
    }
   ],
   "source": [
    "arr_3d = arr.reshape(2,4)\n",
    "arr_3d"
   ]
  },
  {
   "cell_type": "code",
   "execution_count": 79,
   "id": "parallel-killing",
   "metadata": {},
   "outputs": [
    {
     "data": {
      "text/plain": [
       "array([1, 2, 3, 4, 5, 6, 7, 8])"
      ]
     },
     "execution_count": 79,
     "metadata": {},
     "output_type": "execute_result"
    }
   ],
   "source": [
    "arr_3d.ravel()"
   ]
  },
  {
   "cell_type": "code",
   "execution_count": 80,
   "id": "latin-compression",
   "metadata": {},
   "outputs": [
    {
     "data": {
      "text/plain": [
       "array([1, 2, 3, 4, 5, 6, 7, 8])"
      ]
     },
     "execution_count": 80,
     "metadata": {},
     "output_type": "execute_result"
    }
   ],
   "source": [
    "arr_2d.flatten()"
   ]
  },
  {
   "cell_type": "code",
   "execution_count": 81,
   "id": "golden-obligation",
   "metadata": {},
   "outputs": [
    {
     "data": {
      "text/plain": [
       "array([[1, 5],\n",
       "       [2, 6],\n",
       "       [3, 7],\n",
       "       [4, 8]])"
      ]
     },
     "execution_count": 81,
     "metadata": {},
     "output_type": "execute_result"
    }
   ],
   "source": [
    "arr_3d.transpose()"
   ]
  },
  {
   "cell_type": "markdown",
   "id": "naughty-nashville",
   "metadata": {},
   "source": [
    "# matrix computation"
   ]
  },
  {
   "cell_type": "code",
   "execution_count": 95,
   "id": "guilty-supplement",
   "metadata": {},
   "outputs": [
    {
     "data": {
      "text/plain": [
       "array([[1, 2, 3],\n",
       "       [4, 5, 6],\n",
       "       [7, 8, 9]])"
      ]
     },
     "execution_count": 95,
     "metadata": {},
     "output_type": "execute_result"
    }
   ],
   "source": [
    "arr_1 = np.arange(1,10,dtype=int).reshape(3,3)\n",
    "arr_1"
   ]
  },
  {
   "cell_type": "code",
   "execution_count": 94,
   "id": "ranging-bones",
   "metadata": {},
   "outputs": [
    {
     "data": {
      "text/plain": [
       "array([[10, 11, 12],\n",
       "       [13, 14, 15],\n",
       "       [16, 17, 18]])"
      ]
     },
     "execution_count": 94,
     "metadata": {},
     "output_type": "execute_result"
    }
   ],
   "source": [
    "arr_2 = np.arange(10,19,dtype=int).reshape(3,3)\n",
    "arr_2"
   ]
  },
  {
   "cell_type": "code",
   "execution_count": 96,
   "id": "forty-movement",
   "metadata": {},
   "outputs": [
    {
     "data": {
      "text/plain": [
       "array([[11, 13, 15],\n",
       "       [17, 19, 21],\n",
       "       [23, 25, 27]])"
      ]
     },
     "execution_count": 96,
     "metadata": {},
     "output_type": "execute_result"
    }
   ],
   "source": [
    "np.add(arr_1,arr_2)"
   ]
  },
  {
   "cell_type": "code",
   "execution_count": 97,
   "id": "brazilian-majority",
   "metadata": {},
   "outputs": [
    {
     "data": {
      "text/plain": [
       "array([[-9, -9, -9],\n",
       "       [-9, -9, -9],\n",
       "       [-9, -9, -9]])"
      ]
     },
     "execution_count": 97,
     "metadata": {},
     "output_type": "execute_result"
    }
   ],
   "source": [
    "np.subtract(arr_1,arr_2)"
   ]
  },
  {
   "cell_type": "code",
   "execution_count": 98,
   "id": "expressed-disney",
   "metadata": {},
   "outputs": [
    {
     "data": {
      "text/plain": [
       "array([[0.1       , 0.18181818, 0.25      ],\n",
       "       [0.30769231, 0.35714286, 0.4       ],\n",
       "       [0.4375    , 0.47058824, 0.5       ]])"
      ]
     },
     "execution_count": 98,
     "metadata": {},
     "output_type": "execute_result"
    }
   ],
   "source": [
    "np.divide(arr_1,arr_2)"
   ]
  },
  {
   "cell_type": "code",
   "execution_count": 99,
   "id": "russian-laptop",
   "metadata": {},
   "outputs": [
    {
     "data": {
      "text/plain": [
       "array([[ 10,  22,  36],\n",
       "       [ 52,  70,  90],\n",
       "       [112, 136, 162]])"
      ]
     },
     "execution_count": 99,
     "metadata": {},
     "output_type": "execute_result"
    }
   ],
   "source": [
    "np.multiply(arr_1,arr_2)"
   ]
  },
  {
   "cell_type": "code",
   "execution_count": 100,
   "id": "northern-utilization",
   "metadata": {},
   "outputs": [
    {
     "data": {
      "text/plain": [
       "array([[ 84,  90,  96],\n",
       "       [201, 216, 231],\n",
       "       [318, 342, 366]])"
      ]
     },
     "execution_count": 100,
     "metadata": {},
     "output_type": "execute_result"
    }
   ],
   "source": [
    "arr_1 @ arr_2  #matrix row column multiplication first row first coloumn"
   ]
  },
  {
   "cell_type": "code",
   "execution_count": 101,
   "id": "stopped-animation",
   "metadata": {},
   "outputs": [
    {
     "data": {
      "text/plain": [
       "array([[ 84,  90,  96],\n",
       "       [201, 216, 231],\n",
       "       [318, 342, 366]])"
      ]
     },
     "execution_count": 101,
     "metadata": {},
     "output_type": "execute_result"
    }
   ],
   "source": [
    "arr_1.dot(arr_2) #this also matrix row column multiplication first row first coloumn"
   ]
  },
  {
   "cell_type": "markdown",
   "id": "younger-submission",
   "metadata": {},
   "source": [
    "#### max , argmax, axis=0(for col),axis=1(for row), mean,sum,std(stanndard deviation)\n",
    "#### log, exp"
   ]
  },
  {
   "cell_type": "code",
   "execution_count": 112,
   "id": "distinguished-tuner",
   "metadata": {},
   "outputs": [
    {
     "data": {
      "text/plain": [
       "array([[1, 2, 3],\n",
       "       [4, 5, 6],\n",
       "       [7, 8, 9]])"
      ]
     },
     "execution_count": 112,
     "metadata": {},
     "output_type": "execute_result"
    }
   ],
   "source": [
    "arr = np.arange(1,10,dtype=int).reshape(3,3)\n",
    "arr\n"
   ]
  },
  {
   "cell_type": "code",
   "execution_count": 117,
   "id": "impossible-bacteria",
   "metadata": {},
   "outputs": [
    {
     "data": {
      "text/plain": [
       "array([7, 8, 9])"
      ]
     },
     "execution_count": 117,
     "metadata": {},
     "output_type": "execute_result"
    }
   ],
   "source": [
    "arr.max(axis=0) #which is bigger is column "
   ]
  },
  {
   "cell_type": "code",
   "execution_count": 118,
   "id": "conservative-people",
   "metadata": {},
   "outputs": [
    {
     "data": {
      "text/plain": [
       "9"
      ]
     },
     "execution_count": 118,
     "metadata": {},
     "output_type": "execute_result"
    }
   ],
   "source": [
    "arr.max()"
   ]
  },
  {
   "cell_type": "code",
   "execution_count": 108,
   "id": "floating-subscriber",
   "metadata": {},
   "outputs": [
    {
     "data": {
      "text/plain": [
       "8"
      ]
     },
     "execution_count": 108,
     "metadata": {},
     "output_type": "execute_result"
    }
   ],
   "source": [
    "arr.argmax()  #Returns the indices of the maximum values along an axis"
   ]
  },
  {
   "cell_type": "code",
   "execution_count": 120,
   "id": "lesser-manitoba",
   "metadata": {},
   "outputs": [
    {
     "data": {
      "text/plain": [
       "2.581988897471611"
      ]
     },
     "execution_count": 120,
     "metadata": {},
     "output_type": "execute_result"
    }
   ],
   "source": [
    "np.std(arr)"
   ]
  },
  {
   "cell_type": "code",
   "execution_count": 121,
   "id": "closed-agenda",
   "metadata": {},
   "outputs": [
    {
     "data": {
      "text/plain": [
       "array([[0.        , 0.69314718, 1.09861229],\n",
       "       [1.38629436, 1.60943791, 1.79175947],\n",
       "       [1.94591015, 2.07944154, 2.19722458]])"
      ]
     },
     "execution_count": 121,
     "metadata": {},
     "output_type": "execute_result"
    }
   ],
   "source": [
    "np.log(arr)"
   ]
  },
  {
   "cell_type": "code",
   "execution_count": 123,
   "id": "alternate-advertising",
   "metadata": {},
   "outputs": [
    {
     "data": {
      "text/plain": [
       "array([[0.        , 0.30103   , 0.47712125],\n",
       "       [0.60205999, 0.69897   , 0.77815125],\n",
       "       [0.84509804, 0.90308999, 0.95424251]])"
      ]
     },
     "execution_count": 123,
     "metadata": {},
     "output_type": "execute_result"
    }
   ],
   "source": [
    "np.log10(arr)"
   ]
  },
  {
   "cell_type": "code",
   "execution_count": 124,
   "id": "forward-spouse",
   "metadata": {},
   "outputs": [
    {
     "data": {
      "text/plain": [
       "array([[2.71828183e+00, 7.38905610e+00, 2.00855369e+01],\n",
       "       [5.45981500e+01, 1.48413159e+02, 4.03428793e+02],\n",
       "       [1.09663316e+03, 2.98095799e+03, 8.10308393e+03]])"
      ]
     },
     "execution_count": 124,
     "metadata": {},
     "output_type": "execute_result"
    }
   ],
   "source": [
    "np.exp(arr)"
   ]
  },
  {
   "cell_type": "markdown",
   "id": "regulated-cigarette",
   "metadata": {},
   "source": [
    "# Slicing in numpy"
   ]
  },
  {
   "cell_type": "code",
   "execution_count": 128,
   "id": "textile-munich",
   "metadata": {},
   "outputs": [
    {
     "name": "stdout",
     "output_type": "stream",
     "text": [
      "[[  1   2   3   4   5   6   7   8   9  10]\n",
      " [ 11  12  13  14  15  16  17  18  19  20]\n",
      " [ 21  22  23  24  25  26  27  28  29  30]\n",
      " [ 31  32  33  34  35  36  37  38  39  40]\n",
      " [ 41  42  43  44  45  46  47  48  49  50]\n",
      " [ 51  52  53  54  55  56  57  58  59  60]\n",
      " [ 61  62  63  64  65  66  67  68  69  70]\n",
      " [ 71  72  73  74  75  76  77  78  79  80]\n",
      " [ 81  82  83  84  85  86  87  88  89  90]\n",
      " [ 91  92  93  94  95  96  97  98  99 100]]\n"
     ]
    }
   ],
   "source": [
    "b_array = np.arange(1,101).reshape(10,10)\n",
    "print(b_array)"
   ]
  },
  {
   "cell_type": "code",
   "execution_count": 130,
   "id": "sacred-performer",
   "metadata": {},
   "outputs": [
    {
     "data": {
      "text/plain": [
       "array([[11, 12, 13, 14, 15, 16, 17, 18, 19, 20],\n",
       "       [21, 22, 23, 24, 25, 26, 27, 28, 29, 30],\n",
       "       [31, 32, 33, 34, 35, 36, 37, 38, 39, 40],\n",
       "       [41, 42, 43, 44, 45, 46, 47, 48, 49, 50]])"
      ]
     },
     "execution_count": 130,
     "metadata": {},
     "output_type": "execute_result"
    }
   ],
   "source": [
    "b_array[1:5]"
   ]
  },
  {
   "cell_type": "code",
   "execution_count": 146,
   "id": "disturbed-biology",
   "metadata": {},
   "outputs": [
    {
     "name": "stdout",
     "output_type": "stream",
     "text": [
      "[[1]\n",
      " [6]]\n"
     ]
    }
   ],
   "source": [
    "arr = np.array([[1, 2, 3, 4, 5], [6, 7, 8, 9, 10]])\n",
    "\n",
    "print(arr[0:2,0:1 ])\n"
   ]
  },
  {
   "cell_type": "code",
   "execution_count": 138,
   "id": "allied-disaster",
   "metadata": {},
   "outputs": [
    {
     "name": "stdout",
     "output_type": "stream",
     "text": [
      "[3 8]\n"
     ]
    }
   ],
   "source": [
    "print(arr[0:2, 2 ])"
   ]
  },
  {
   "cell_type": "code",
   "execution_count": 144,
   "id": "mounted-adoption",
   "metadata": {},
   "outputs": [
    {
     "data": {
      "text/plain": [
       "array([[ 1],\n",
       "       [11],\n",
       "       [21],\n",
       "       [31],\n",
       "       [41],\n",
       "       [51],\n",
       "       [61],\n",
       "       [71],\n",
       "       [81],\n",
       "       [91]])"
      ]
     },
     "execution_count": 144,
     "metadata": {},
     "output_type": "execute_result"
    }
   ],
   "source": [
    "b_array[:,0:1]"
   ]
  },
  {
   "cell_type": "markdown",
   "id": "determined-discipline",
   "metadata": {},
   "source": [
    "# vstack and hstack and split"
   ]
  },
  {
   "cell_type": "code",
   "execution_count": 150,
   "id": "convertible-alexandria",
   "metadata": {},
   "outputs": [
    {
     "data": {
      "text/plain": [
       "array([[1, 2, 3],\n",
       "       [4, 5, 6],\n",
       "       [7, 8, 9]])"
      ]
     },
     "execution_count": 150,
     "metadata": {},
     "output_type": "execute_result"
    }
   ],
   "source": [
    "arr1 = np.arange(1,10).reshape(3,3) \n",
    "arr1\n"
   ]
  },
  {
   "cell_type": "code",
   "execution_count": 152,
   "id": "healthy-consultancy",
   "metadata": {},
   "outputs": [
    {
     "data": {
      "text/plain": [
       "array([[11, 12, 13],\n",
       "       [14, 15, 16],\n",
       "       [17, 18, 19]])"
      ]
     },
     "execution_count": 152,
     "metadata": {},
     "output_type": "execute_result"
    }
   ],
   "source": [
    "arr2 = np.arange(11,20).reshape(3,3) \n",
    "arr2"
   ]
  },
  {
   "cell_type": "code",
   "execution_count": 154,
   "id": "different-spanish",
   "metadata": {},
   "outputs": [
    {
     "data": {
      "text/plain": [
       "array([[ 1,  2,  3],\n",
       "       [ 4,  5,  6],\n",
       "       [ 7,  8,  9],\n",
       "       [11, 12, 13],\n",
       "       [14, 15, 16],\n",
       "       [17, 18, 19]])"
      ]
     },
     "execution_count": 154,
     "metadata": {},
     "output_type": "execute_result"
    }
   ],
   "source": [
    "np.vstack((arr1,arr2))"
   ]
  },
  {
   "cell_type": "code",
   "execution_count": 157,
   "id": "incorporate-control",
   "metadata": {},
   "outputs": [
    {
     "data": {
      "text/plain": [
       "array([[ 1,  2,  3, 11, 12, 13,  1,  2,  3],\n",
       "       [ 4,  5,  6, 14, 15, 16,  4,  5,  6],\n",
       "       [ 7,  8,  9, 17, 18, 19,  7,  8,  9]])"
      ]
     },
     "execution_count": 157,
     "metadata": {},
     "output_type": "execute_result"
    }
   ],
   "source": [
    "np.hstack((arr1,arr2,arr1))"
   ]
  },
  {
   "cell_type": "markdown",
   "id": "herbal-symbol",
   "metadata": {},
   "source": [
    "# trigonometry functions"
   ]
  },
  {
   "cell_type": "code",
   "execution_count": 160,
   "id": "focused-april",
   "metadata": {},
   "outputs": [
    {
     "data": {
      "text/plain": [
       "array([[  1,   2,   3,   4,   5,   6,   7,   8,   9,  10],\n",
       "       [ 11,  12,  13,  14,  15,  16,  17,  18,  19,  20],\n",
       "       [ 21,  22,  23,  24,  25,  26,  27,  28,  29,  30],\n",
       "       [ 31,  32,  33,  34,  35,  36,  37,  38,  39,  40],\n",
       "       [ 41,  42,  43,  44,  45,  46,  47,  48,  49,  50],\n",
       "       [ 51,  52,  53,  54,  55,  56,  57,  58,  59,  60],\n",
       "       [ 61,  62,  63,  64,  65,  66,  67,  68,  69,  70],\n",
       "       [ 71,  72,  73,  74,  75,  76,  77,  78,  79,  80],\n",
       "       [ 81,  82,  83,  84,  85,  86,  87,  88,  89,  90],\n",
       "       [ 91,  92,  93,  94,  95,  96,  97,  98,  99, 100]])"
      ]
     },
     "execution_count": 160,
     "metadata": {},
     "output_type": "execute_result"
    }
   ],
   "source": [
    "b_array"
   ]
  },
  {
   "cell_type": "code",
   "execution_count": 161,
   "id": "sized-recorder",
   "metadata": {},
   "outputs": [
    {
     "data": {
      "text/plain": [
       "array([[ 1.55740772e+00, -2.18503986e+00, -1.42546543e-01,\n",
       "         1.15782128e+00, -3.38051501e+00, -2.91006191e-01,\n",
       "         8.71447983e-01, -6.79971146e+00, -4.52315659e-01,\n",
       "         6.48360827e-01],\n",
       "       [-2.25950846e+02, -6.35859929e-01,  4.63021133e-01,\n",
       "         7.24460662e+00, -8.55993401e-01,  3.00632242e-01,\n",
       "         3.49391565e+00, -1.13731371e+00,  1.51589471e-01,\n",
       "         2.23716094e+00],\n",
       "       [-1.52749853e+00,  8.85165604e-03,  1.58815308e+00,\n",
       "        -2.13489670e+00, -1.33526407e-01,  1.17875355e+00,\n",
       "        -3.27370380e+00, -2.81429605e-01,  8.87142844e-01,\n",
       "        -6.40533120e+00],\n",
       "       [-4.41695568e-01,  6.61006041e-01, -7.53130148e+01,\n",
       "        -6.23498963e-01,  4.73814720e-01,  7.75047091e+00,\n",
       "        -8.40771255e-01,  3.10309661e-01,  3.61455441e+00,\n",
       "        -1.11721493e+00],\n",
       "       [ 1.60656699e-01,  2.29138799e+00, -1.49838734e+00,\n",
       "         1.77046993e-02,  1.61977519e+00, -2.08661353e+00,\n",
       "        -1.24527568e-01,  1.20012724e+00, -3.17290855e+00,\n",
       "        -2.71900612e-01],\n",
       "       [ 9.03086149e-01, -6.05327238e+00, -4.31158197e-01,\n",
       "         6.73800101e-01, -4.51830879e+01, -6.11273688e-01,\n",
       "         4.84699227e-01,  8.33085685e+00, -8.25774009e-01,\n",
       "         3.20040389e-01],\n",
       "       [ 3.74316794e+00, -1.09750978e+00,  1.69749752e-01,\n",
       "         2.34786031e+00, -1.47003826e+00,  2.65605178e-02,\n",
       "         1.65231726e+00, -2.04008160e+00, -1.15548546e-01,\n",
       "         1.22195992e+00],\n",
       "       [-3.07762040e+00, -2.62417378e-01,  9.19286404e-01,\n",
       "        -5.73702254e+00, -4.20700951e-01,  6.86747689e-01,\n",
       "        -3.22685758e+01, -5.99179998e-01,  4.95677533e-01,\n",
       "         9.00365495e+00],\n",
       "       [-8.10994416e-01,  3.29826407e-01,  3.88059631e+00,\n",
       "        -1.07818381e+00,  1.78870172e-01,  2.40672971e+00,\n",
       "        -1.44241747e+00,  3.54205013e-02,  1.68582537e+00,\n",
       "        -1.99520041e+00],\n",
       "       [-1.06587872e-01,  1.24427006e+00, -2.98738626e+00,\n",
       "        -2.52978097e-01,  9.35752472e-01, -5.45134011e+00,\n",
       "        -4.10321299e-01,  6.99853654e-01, -2.50925350e+01,\n",
       "        -5.87213915e-01]])"
      ]
     },
     "execution_count": 161,
     "metadata": {},
     "output_type": "execute_result"
    }
   ],
   "source": [
    "np.tan(b_array)"
   ]
  },
  {
   "cell_type": "code",
   "execution_count": 164,
   "id": "played-college",
   "metadata": {},
   "outputs": [
    {
     "data": {
      "text/plain": [
       "array([[ 1.22464680e-16, -2.44929360e-16,  3.67394040e-16,\n",
       "        -4.89858720e-16,  6.12323400e-16, -7.34788079e-16,\n",
       "         8.57252759e-16, -9.79717439e-16,  1.10218212e-15,\n",
       "        -1.22464680e-15],\n",
       "       [ 4.89982516e-15, -1.46957616e-15, -1.96067284e-15,\n",
       "        -1.71450552e-15,  5.38968388e-15, -1.95943488e-15,\n",
       "        -1.47081412e-15, -2.20436424e-15,  5.87954260e-15,\n",
       "        -2.44929360e-15],\n",
       "       [-9.80955401e-16, -9.79965032e-15,  6.36940132e-15,\n",
       "        -2.93915232e-15, -4.91096681e-16,  3.92134568e-15,\n",
       "         6.85926004e-15, -3.42901104e-15, -1.23796127e-18,\n",
       "        -1.07793678e-14],\n",
       "       [ 7.34911876e-15, -3.91886976e-15,  4.88620758e-16,\n",
       "         2.94162824e-15,  7.83897748e-15, -4.40872848e-15,\n",
       "         9.78479478e-16, -1.17590852e-14,  8.32883620e-15,\n",
       "        -4.89858720e-15],\n",
       "       [ 1.56791929e-14,  1.96191080e-15,  8.81869492e-15,\n",
       "        -1.95993006e-14,  1.95819692e-15, -1.27388026e-14,\n",
       "        -4.90230108e-15, -5.87830464e-15,  1.66589104e-14,\n",
       "         9.82193362e-16],\n",
       "       [ 9.79841235e-15,  7.84269136e-15,  2.93791436e-15,\n",
       "        -1.37185201e-14, -3.92258364e-15, -6.85802208e-15,\n",
       "         1.76386278e-14,  2.47592255e-18,  1.07781298e-14,\n",
       "        -2.15587355e-14],\n",
       "       [ 3.91763180e-15, -1.46982375e-14, -2.94286620e-15,\n",
       "        -7.83773951e-15,  1.86183452e-14, -9.77241517e-16,\n",
       "         1.17578472e-14,  5.88325648e-15,  4.89734924e-15,\n",
       "        -1.56779550e-14],\n",
       "       [-1.96314876e-15, -8.81745695e-15,  1.95980627e-14,\n",
       "        -1.95695896e-15,  1.27375647e-14, -2.35181704e-14,\n",
       "         5.87706667e-15, -1.66576724e-14, -9.83431323e-16,\n",
       "        -9.79717439e-15],\n",
       "       [ 2.05777801e-14, -3.13583858e-14, -1.47044273e-14,\n",
       "         3.92382160e-15,  6.85678411e-15, -1.76373898e-14,\n",
       "         2.84179955e-14, -3.91986013e-14, -6.86421188e-15,\n",
       "        -3.91639383e-15],\n",
       "       [ 1.46969996e-14, -2.54776053e-14,  3.62582110e-14,\n",
       "         9.80460216e-15,  9.76003555e-16, -1.17566093e-14,\n",
       "         2.25372150e-14, -3.33178207e-14, -1.27449924e-14,\n",
       "         1.96438672e-15]])"
      ]
     },
     "execution_count": 164,
     "metadata": {},
     "output_type": "execute_result"
    }
   ],
   "source": [
    "np.sin(b_array*np.pi)"
   ]
  },
  {
   "cell_type": "markdown",
   "id": "genetic-taste",
   "metadata": {},
   "source": [
    "# Rnadom sampling in numpy"
   ]
  },
  {
   "cell_type": "code",
   "execution_count": 165,
   "id": "opponent-joshua",
   "metadata": {},
   "outputs": [],
   "source": [
    "import random\n",
    "import numpy as np"
   ]
  },
  {
   "cell_type": "code",
   "execution_count": 171,
   "id": "particular-corporation",
   "metadata": {},
   "outputs": [
    {
     "data": {
      "text/plain": [
       "array([[0.9467866 , 0.29692474, 0.37308853],\n",
       "       [0.44077464, 0.8906526 , 0.72052758],\n",
       "       [0.46563063, 0.38033089, 0.34509432]])"
      ]
     },
     "execution_count": 171,
     "metadata": {},
     "output_type": "execute_result"
    }
   ],
   "source": [
    "np.random.random((3,3))"
   ]
  },
  {
   "cell_type": "code",
   "execution_count": 172,
   "id": "fluid-alberta",
   "metadata": {},
   "outputs": [
    {
     "data": {
      "text/plain": [
       "3"
      ]
     },
     "execution_count": 172,
     "metadata": {},
     "output_type": "execute_result"
    }
   ],
   "source": [
    "np.random.randint(1,4)"
   ]
  },
  {
   "cell_type": "code",
   "execution_count": 175,
   "id": "supposed-narrow",
   "metadata": {},
   "outputs": [
    {
     "data": {
      "text/plain": [
       "array([[3, 3, 1, 2],\n",
       "       [1, 1, 3, 1],\n",
       "       [1, 1, 1, 1],\n",
       "       [3, 1, 2, 1]])"
      ]
     },
     "execution_count": 175,
     "metadata": {},
     "output_type": "execute_result"
    }
   ],
   "source": [
    "np.random.randint(1,4,(4,4))"
   ]
  },
  {
   "cell_type": "code",
   "execution_count": 177,
   "id": "attractive-spoke",
   "metadata": {},
   "outputs": [
    {
     "data": {
      "text/plain": [
       "array([[[2, 2],\n",
       "        [3, 2],\n",
       "        [3, 3],\n",
       "        [3, 2]],\n",
       "\n",
       "       [[2, 2],\n",
       "        [2, 2],\n",
       "        [3, 3],\n",
       "        [1, 3]],\n",
       "\n",
       "       [[2, 2],\n",
       "        [1, 2],\n",
       "        [2, 3],\n",
       "        [3, 3]],\n",
       "\n",
       "       [[2, 1],\n",
       "        [3, 2],\n",
       "        [3, 2],\n",
       "        [2, 3]]])"
      ]
     },
     "execution_count": 177,
     "metadata": {},
     "output_type": "execute_result"
    }
   ],
   "source": [
    "np.random.randint(1,4,(4,4,2))"
   ]
  },
  {
   "cell_type": "code",
   "execution_count": 179,
   "id": "empirical-think",
   "metadata": {},
   "outputs": [
    {
     "data": {
      "text/plain": [
       "array([[0.95732836, 0.8795087 , 0.18330473],\n",
       "       [0.91488852, 0.01623365, 0.13669905],\n",
       "       [0.20350751, 0.83215599, 0.57290205]])"
      ]
     },
     "execution_count": 179,
     "metadata": {},
     "output_type": "execute_result"
    }
   ],
   "source": [
    "np.random.rand(3,3)"
   ]
  },
  {
   "cell_type": "markdown",
   "id": "delayed-exploration",
   "metadata": {},
   "source": [
    "# String operation in numpy, comparison and information"
   ]
  },
  {
   "cell_type": "code",
   "execution_count": 184,
   "id": "exposed-consent",
   "metadata": {},
   "outputs": [],
   "source": [
    "name1 = \"my name is\"\n",
    "name2 = \"sambhav kumar gupta\""
   ]
  },
  {
   "cell_type": "code",
   "execution_count": 182,
   "id": "instrumental-reservation",
   "metadata": {},
   "outputs": [
    {
     "data": {
      "text/plain": [
       "array('my name issambhav kumar gupta', dtype='<U29')"
      ]
     },
     "execution_count": 182,
     "metadata": {},
     "output_type": "execute_result"
    }
   ],
   "source": [
    "np.char.add(name1,name2)"
   ]
  },
  {
   "cell_type": "code",
   "execution_count": 185,
   "id": "accurate-rough",
   "metadata": {},
   "outputs": [
    {
     "data": {
      "text/plain": [
       "array('my name is', dtype='<U10')"
      ]
     },
     "execution_count": 185,
     "metadata": {},
     "output_type": "execute_result"
    }
   ],
   "source": [
    "np.char.lower(name1)"
   ]
  },
  {
   "cell_type": "code",
   "execution_count": 186,
   "id": "brazilian-temple",
   "metadata": {},
   "outputs": [
    {
     "data": {
      "text/plain": [
       "array('MY NAME IS', dtype='<U10')"
      ]
     },
     "execution_count": 186,
     "metadata": {},
     "output_type": "execute_result"
    }
   ],
   "source": [
    "np.char.upper(name1)"
   ]
  },
  {
   "cell_type": "code",
   "execution_count": 187,
   "id": "sharp-sheriff",
   "metadata": {},
   "outputs": [
    {
     "data": {
      "text/plain": [
       "array('                         my name is                         ',\n",
       "      dtype='<U60')"
      ]
     },
     "execution_count": 187,
     "metadata": {},
     "output_type": "execute_result"
    }
   ],
   "source": [
    "np.char.center(name1,60)"
   ]
  },
  {
   "cell_type": "code",
   "execution_count": 188,
   "id": "violent-employee",
   "metadata": {},
   "outputs": [
    {
     "data": {
      "text/plain": [
       "array('*************************my name is*************************',\n",
       "      dtype='<U60')"
      ]
     },
     "execution_count": 188,
     "metadata": {},
     "output_type": "execute_result"
    }
   ],
   "source": [
    "np.char.center(name1,60, fillchar=\"*\")"
   ]
  },
  {
   "cell_type": "code",
   "execution_count": 189,
   "id": "atmospheric-berlin",
   "metadata": {},
   "outputs": [
    {
     "data": {
      "text/plain": [
       "array(list(['my', 'name', 'is']), dtype=object)"
      ]
     },
     "execution_count": 189,
     "metadata": {},
     "output_type": "execute_result"
    }
   ],
   "source": [
    "np.char.split(name1)"
   ]
  },
  {
   "cell_type": "code",
   "execution_count": 190,
   "id": "accredited-journey",
   "metadata": {},
   "outputs": [
    {
     "data": {
      "text/plain": [
       "array(list(['my name is', 'sambhav']), dtype=object)"
      ]
     },
     "execution_count": 190,
     "metadata": {},
     "output_type": "execute_result"
    }
   ],
   "source": [
    "np.char.splitlines(\"my name is\\nsambhav\")\n"
   ]
  },
  {
   "cell_type": "code",
   "execution_count": 196,
   "id": "visible-awareness",
   "metadata": {},
   "outputs": [
    {
     "data": {
      "text/plain": [
       "array(['d:m:y', 'd/m/y'], dtype='<U5')"
      ]
     },
     "execution_count": 196,
     "metadata": {},
     "output_type": "execute_result"
    }
   ],
   "source": [
    "str1 = 'dmy'\n",
    "str2 = 'dmy'\n",
    "np.char.join([\":\",\"/\"],[str1,str2])"
   ]
  },
  {
   "cell_type": "code",
   "execution_count": 197,
   "id": "inside-granny",
   "metadata": {},
   "outputs": [
    {
     "data": {
      "text/plain": [
       "array('my name are', dtype='<U11')"
      ]
     },
     "execution_count": 197,
     "metadata": {},
     "output_type": "execute_result"
    }
   ],
   "source": [
    "np.char.replace(name1,\"is\",\"are\")"
   ]
  },
  {
   "cell_type": "code",
   "execution_count": 199,
   "id": "advanced-tourist",
   "metadata": {},
   "outputs": [
    {
     "data": {
      "text/plain": [
       "array(-1)"
      ]
     },
     "execution_count": 199,
     "metadata": {},
     "output_type": "execute_result"
    }
   ],
   "source": [
    "np.char.find(str1,'is')"
   ]
  },
  {
   "cell_type": "code",
   "execution_count": null,
   "id": "major-century",
   "metadata": {},
   "outputs": [],
   "source": []
  }
 ],
 "metadata": {
  "kernelspec": {
   "display_name": "Python 3",
   "language": "python",
   "name": "python3"
  },
  "language_info": {
   "codemirror_mode": {
    "name": "ipython",
    "version": 3
   },
   "file_extension": ".py",
   "mimetype": "text/x-python",
   "name": "python",
   "nbconvert_exporter": "python",
   "pygments_lexer": "ipython3",
   "version": "3.8.3"
  }
 },
 "nbformat": 4,
 "nbformat_minor": 5
}
